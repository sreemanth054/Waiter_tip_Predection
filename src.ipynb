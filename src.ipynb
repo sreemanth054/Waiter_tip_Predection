{
  "nbformat": 4,
  "nbformat_minor": 0,
  "metadata": {
    "colab": {
      "provenance": [],
      "include_colab_link": true
    },
    "kernelspec": {
      "name": "python3",
      "display_name": "Python 3"
    },
    "language_info": {
      "name": "python"
    }
  },
  "cells": [
    {
      "cell_type": "markdown",
      "metadata": {
        "id": "view-in-github",
        "colab_type": "text"
      },
      "source": [
        "<a href=\"https://colab.research.google.com/github/sreemanth054/Waiter_tip_Predection/blob/main/src.ipynb\" target=\"_parent\"><img src=\"https://colab.research.google.com/assets/colab-badge.svg\" alt=\"Open In Colab\"/></a>"
      ]
    },
    {
      "cell_type": "code",
      "execution_count": null,
      "metadata": {
        "id": "_xpQZBxD8vEP"
      },
      "outputs": [],
      "source": [
        "#importing libriaries\n",
        "import numpy as np\n",
        "import pandas as pd\n",
        "import seaborn as sb\n",
        "import matplotlib.pyplot as plt\n",
        "\n",
        "from sklearn.metrics import mean_absolute_error as mae\n",
        "from sklearn.model_selection import train_test_split\n",
        "from sklearn.preprocessing import StandardScaler, LabelEncoder\n",
        "from sklearn.linear_model import LinearRegression\n",
        "from xgboost import XGBRegressor\n",
        "from sklearn.ensemble import RandomForestRegressor, AdaBoostRegressor\n",
        "\n",
        "import warnings\n",
        "warnings.filterwarnings('ignore')\n"
      ]
    },
    {
      "cell_type": "markdown",
      "source": [
        "# **Acquisition and cleaning**"
      ],
      "metadata": {
        "id": "vcVFfnmA9AOW"
      }
    },
    {
      "cell_type": "code",
      "source": [],
      "metadata": {
        "id": "RMpykloj8-Gg"
      },
      "execution_count": null,
      "outputs": []
    },
    {
      "cell_type": "markdown",
      "source": [
        "# **Exploratory Data Analysis**"
      ],
      "metadata": {
        "id": "jVDQl09s9fs_"
      }
    },
    {
      "cell_type": "code",
      "source": [],
      "metadata": {
        "id": "2him_KZq-YTh"
      },
      "execution_count": null,
      "outputs": []
    },
    {
      "cell_type": "markdown",
      "source": [
        "# **Synthetic data generation**"
      ],
      "metadata": {
        "id": "YlX-SUIy-avr"
      }
    },
    {
      "cell_type": "code",
      "source": [
        "\n",
        "def generate_synthetic_data(num_samples):\n",
        "    # Define feature distributions\n",
        "    total_bill_dist = np.random.uniform(low=3, high=50, size=num_samples)\n",
        "    tip_dist = np.random.uniform(low=1, high=15, size=num_samples)\n",
        "    sex_dist = np.random.choice(['Male', 'Female'], size=num_samples)\n",
        "    smoker_dist = np.random.choice(['No', 'Yes'], size=num_samples)\n",
        "    day_dist = np.random.choice(['Thur', 'Fri', 'Sat', 'Sun'], size=num_samples)\n",
        "    time_dist = np.random.choice(['Dinner', 'Lunch'], size=num_samples)\n",
        "    size_dist = np.random.randint(1, 7, size=num_samples)\n",
        "\n",
        "    # Create a DataFrame\n",
        "    data = {'total_bill': total_bill_dist,\n",
        "            'tip': tip_dist,\n",
        "            'sex': sex_dist,\n",
        "            'smoker': smoker_dist,\n",
        "            'day': day_dist,\n",
        "            'time': time_dist,\n",
        "            'size': size_dist}\n",
        "\n",
        "    df = pd.DataFrame(data)\n",
        "    return df\n",
        "\n",
        "# Generate 1000 synthetic samples\n",
        "synthetic_df = generate_synthetic_data(1000)\n",
        "\n",
        "# Print the first few rows\n",
        "print(synthetic_df.head())"
      ],
      "metadata": {
        "id": "HAqh5-BO-yXI"
      },
      "execution_count": null,
      "outputs": []
    },
    {
      "cell_type": "markdown",
      "source": [
        "# **Model selection and Training**"
      ],
      "metadata": {
        "id": "swIZPiIq-zir"
      }
    },
    {
      "cell_type": "code",
      "source": [
        "scaler = StandardScaler()\n",
        "X_train = scaler.fit_transform(X_train)\n",
        "X_val = scaler.transform(X_val)"
      ],
      "metadata": {
        "id": "5pbRit8JAM6X"
      },
      "execution_count": null,
      "outputs": []
    },
    {
      "cell_type": "code",
      "source": [
        "models = [LinearRegression(), XGBRegressor(), RandomForestRegressor(), AdaBoostRegressor()]\n",
        "\n",
        "for i in range(4):\n",
        "  models[i].fit(X_train, Y_train)\n",
        "\n",
        "  print(f'{models[i]} : ')\n",
        "  pred_train = models[i].predict(X_train)\n",
        "  print('Training Accuracy : ', mae(Y_train, pred_train))\n",
        "\n",
        "  pred_val = models[i].predict(X_val)\n",
        "  print('Validation Accuracy : ', mae(Y_val, pred_val))\n",
        "  print()\n"
      ],
      "metadata": {
        "id": "Ym0JKoZIAW49"
      },
      "execution_count": null,
      "outputs": []
    },
    {
      "cell_type": "markdown",
      "source": [
        "# **Model Evaluation and Comparison**"
      ],
      "metadata": {
        "id": "xdss40xJ_Bub"
      }
    },
    {
      "cell_type": "code",
      "source": [],
      "metadata": {
        "id": "J07zShtP_PhP"
      },
      "execution_count": null,
      "outputs": []
    }
  ]
}